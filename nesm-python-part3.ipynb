{
 "cells": [
  {
   "cell_type": "markdown",
   "id": "47033ff2-deca-420d-80b4-ce29ead169fe",
   "metadata": {},
   "source": [
    "# NESM Python Workshop Part 3\n",
    "\n",
    "\n",
    "## Overview\n",
    "\n",
    "Goals:\n",
    "We can't cover every use case in detail so the main goals here are:\n",
    "1. Demonstrate that you can do microscopy analysis completely from python\n",
    "2. Give a quick tour of the some of the many open source libs (set you up for future success)\n",
    "3. Go over some domain specific examples\n",
    "    - reinforce the numpy we learned in part 1\n",
    "    - Show power of the open source ecosystem\n",
    "    - Building blocks are all here and numpy is the commmon language of these tools\n",
    "\n",
    "- Microscopy Image IO\n",
    "\n",
    "- Analysis Pipeline\n",
    "\n",
    "    Structure: two motivating examples for which we illustrate the entire pipeline of analysis\n",
    "    Napari\n",
    "    Many examples (see email suggestions)\n",
    "    Skimage\n",
    "    Scipy ndimage\n",
    "    Frame-wise operations with np.vectorize\n",
    "    Resource list\n"
   ]
  },
  {
   "cell_type": "markdown",
   "id": "68c1260f-82c4-4575-ade8-afb8296e022e",
   "metadata": {},
   "source": [
    "## IO\n",
    "\n",
    "Not always a fully solved problem due to to proprietary formats. \n",
    "\n",
    "Libraries exist where people have put in the work to read all the possible types of images. \n",
    "\n",
    "\n",
    "Rock solid base: https://github.com/cgohlke/tifffile\n",
    "https://github.com/tlambert03/ome-types\n",
    "The future (and maybe also the now?): https://allencellmodeling.github.io/aicsimageio/\n",
    "\n",
    "\n",
    "Per https://ngff.openmicroscopy.org/latest/ [zarr](https://zarr.readthedocs.io/en/stable/) will be the basis of the next generation file format."
   ]
  },
  {
   "cell_type": "markdown",
   "id": "d4876aab-9757-4b78-9705-9b781a6f6bdc",
   "metadata": {},
   "source": [
    "## [Napari](https://napari.org/)\n",
    "    \n",
    "    \n",
    "The future of microscopy image visualization. \n",
    "\n",
    "- Tools like Matplotlib will always have a place in the workflow, but Napari is a best in class image viewer that also \n",
    "\n",
    "GPU accelerated\n",
    "Core developers work in bioimaging\n",
    "Open source with a strong community of contributors\n",
    "vs hyperslicer - \n",
    "\n",
    "\n",
    "https://www.youtube.com/watch?v=VXdFOcBCto4\n",
    "\n",
    "\n",
    "Let's you work anywhere on the spectrum from pure gui to pure script no interactivity."
   ]
  },
  {
   "cell_type": "code",
   "execution_count": null,
   "id": "442d07a3-1c6c-4269-ab20-e31850f33a2d",
   "metadata": {},
   "outputs": [],
   "source": [
    "# Show a basic napari demo"
   ]
  },
  {
   "cell_type": "markdown",
   "id": "a6c6e444-a3d9-4776-b40f-7245ac2479db",
   "metadata": {},
   "source": [
    "## Image analysis tools\n",
    "\n",
    "Python has a rich ecosystem of libraries\n",
    "- [scipy.ndimage](https://docs.scipy.org/doc/scipy/reference/tutorial/ndimage.html)\n",
    "- [skimage](https://scikit-image.org/docs/dev/api/skimage.html)\n",
    "- [sklearn](https://scikit-learn.org/stable/)\n",
    "- [xarray](http://xarray.pydata.org/en/stable/)\n",
    "- [pandas](https://pandas.pydata.org/)\n",
    "\n",
    "\n",
    "Domain Specific tools:\n",
    "\n",
    "- [hyperspy](https://hyperspy.org/hyperspy-doc/current/user_guide/intro.html)\n",
    "- [microutil](https://github.com/Hekstra-Lab/microutil)\n",
    "- \n",
    "**Machine Learning:**\n",
    "The two world class libraries are both primarily python:\n",
    "https://pytorch.org/\n",
    "https://www.tensorflow.org/  (we'll see an example later)\n",
    "\n"
   ]
  },
  {
   "cell_type": "code",
   "execution_count": null,
   "id": "c675ee65-ddf5-49d1-bf11-685c4af7f6fb",
   "metadata": {},
   "outputs": [],
   "source": [
    "CHO = tifffile.imread(\"data/Fluo-N3DH-CHO/01/*\")"
   ]
  },
  {
   "cell_type": "code",
   "execution_count": null,
   "id": "b29bba7b-5512-4cf8-8d67-2f54a6eaf15f",
   "metadata": {},
   "outputs": [],
   "source": [
    "from mpl_interactions import hyperslicer\n",
    "import xarray as xr\n",
    "plt.figure()\n",
    "hyperslicer(CHO)"
   ]
  },
  {
   "cell_type": "code",
   "execution_count": null,
   "id": "53da3eb1-e65f-4a0c-8629-aa92c81369fc",
   "metadata": {},
   "outputs": [],
   "source": []
  },
  {
   "cell_type": "code",
   "execution_count": null,
   "id": "f3cb7900-c736-4e63-8d73-b94a61896b7e",
   "metadata": {},
   "outputs": [],
   "source": []
  },
  {
   "cell_type": "code",
   "execution_count": null,
   "id": "42b1c7ef-8631-461c-a398-34357967bf51",
   "metadata": {},
   "outputs": [],
   "source": [
    "plt.figure()\n",
    "hyperslicer(CHO)"
   ]
  },
  {
   "cell_type": "code",
   "execution_count": null,
   "id": "b2e0341a-7d08-4517-84f1-73402a02b233",
   "metadata": {},
   "outputs": [],
   "source": [
    "%matplotlib widget\n",
    "import tifffile\n",
    "import numpy as np\n",
    "import matplotlib.pyplot as plt\n"
   ]
  },
  {
   "cell_type": "code",
   "execution_count": null,
   "id": "8c42a0b6-6006-4a3b-871f-75236217fa5b",
   "metadata": {},
   "outputs": [],
   "source": [
    "particles_raw = tifffile.imread('data/Particle.tif')\n"
   ]
  },
  {
   "cell_type": "code",
   "execution_count": null,
   "id": "bd885c56-49a6-418b-a606-b33e62437d4f",
   "metadata": {},
   "outputs": [],
   "source": [
    "plt.figure()\n",
    "plt.imshow(particles_raw)"
   ]
  },
  {
   "cell_type": "markdown",
   "id": "b6b486b3-372d-4971-837d-ef4eaf549e43",
   "metadata": {},
   "source": [
    "### Extracting Scale Bar\n",
    "\n",
    "I zoomed in on the image and figured out which pixel are the scale bar then used them"
   ]
  },
  {
   "cell_type": "code",
   "execution_count": null,
   "id": "575cdd33-5a40-41ee-a6b5-c5955fa000cc",
   "metadata": {},
   "outputs": [],
   "source": [
    "# subset the array - I already looked and know that these values are good\n",
    "\n",
    "arr = particles_raw[960:, 850:900]\n",
    "plt.figure()\n",
    "plt.imshow(arr)\n",
    "plt.figure()\n",
    "bar = arr[10,:]\n",
    "plt.plot(bar,'o-')\n"
   ]
  },
  {
   "cell_type": "code",
   "execution_count": null,
   "id": "3e709e98-c41a-4d3d-bc40-c5afed4422f2",
   "metadata": {},
   "outputs": [],
   "source": [
    "idxs = np.arange(len(bar)) * (bar > 10)\n",
    "scale_bar_length_pixels = idxs.max() - idxs.min()\n",
    "scale_bar_length_micron = 10\n",
    "pixels_per_micron = scale_bar_length_pixels / scale_bar_length_micron\n",
    "microns_per_pixel = 1/pixels_per_micron"
   ]
  },
  {
   "cell_type": "code",
   "execution_count": null,
   "id": "2d4af1fd-db78-468a-b426-fc41f9b0d25b",
   "metadata": {},
   "outputs": [],
   "source": [
    "plt.figure()\n",
    "plt.imshow(particles_raw[:960])\n",
    "dat = particles_raw[:960]\n"
   ]
  },
  {
   "cell_type": "markdown",
   "id": "14566b7d-9c14-41a7-9def-63634aac613b",
   "metadata": {},
   "source": [
    "## Example - SEM image\n",
    "\n",
    "Goals:\n",
    "Compute a histogram of bead areas and decsriptive statistics for bead sizes.\n",
    "\n",
    "To accomplish this we will string together existing tools with a bit of custom numpy.\n"
   ]
  },
  {
   "cell_type": "code",
   "execution_count": null,
   "id": "c245a6ba-b88f-4d7f-96f5-665271a96fd7",
   "metadata": {},
   "outputs": [],
   "source": [
    "import matplotlib.pyplot as plt\n",
    "from skimage import data\n",
    "from skimage.filters import threshold_otsu"
   ]
  },
  {
   "cell_type": "markdown",
   "id": "0a7727e6-e921-4ad0-a97f-d9089849f688",
   "metadata": {},
   "source": [
    "## Thresholding\n",
    "\n",
    "\n",
    "### Interactively\n",
    "\n",
    "\n",
    "Sometimes it's nice to make a human judgement. This is easy to do using existing tools in the python ecosystem.  Here we use code taken nearly verbatim from an example on https://mpl-interactions.readthedocs.io/en/stable/examples/range-sliders.html#Using-a-RangeSlider-for-Scalar-arguments---Thresholding-an-Image\n",
    "\n",
    "\n",
    "To make it easy to use we've also wrapped it up into a function that we can call easily on an array."
   ]
  },
  {
   "cell_type": "code",
   "execution_count": null,
   "id": "2e8907f2-a2e4-476b-9ed7-73b9497b019f",
   "metadata": {},
   "outputs": [],
   "source": [
    "import mpl_interactions.ipyplot as iplt\n",
    "from nesm_utils import interactive_threshold\n",
    "controls, axes = interactive_threshold(dat, bins=np.arange(0,255))\n"
   ]
  },
  {
   "cell_type": "code",
   "execution_count": null,
   "id": "b11f44a1-7c7a-45b7-945a-e2545609592d",
   "metadata": {},
   "outputs": [],
   "source": [
    "controls.params"
   ]
  },
  {
   "cell_type": "markdown",
   "id": "9570ffff-3437-4865-9c40-a248e245527a",
   "metadata": {},
   "source": [
    "## Breakout Exercise\n",
    "\n",
    "Interactively choosing thresholds does not scale \n",
    "\n",
    "1. Make a plot comparing multiple thresholding methods (https://scikit-image.org/docs/dev/auto_examples/segmentation/plot_thresholding.html)\n",
    "2. Segment the blobs - Use google!\n",
    "3. Compute the area of all the blobs\n",
    "     - `np.unique`\n",
    "     - `ndi.sum_labels`\n",
    "     - `skimage.measure.regionprops`\n",
    "4. Remove any small objects using indexing and `np.unique(..., return_counts=True)`"
   ]
  },
  {
   "cell_type": "code",
   "execution_count": null,
   "id": "27ed11a5-25bd-453c-a780-60d9775ccb5b",
   "metadata": {},
   "outputs": [],
   "source": [
    "from skimage.filters import try_all_threshold\n",
    "\n",
    "fig, ax = try_all_threshold(dat, figsize=(10, 8), verbose=False)\n",
    "plt.show()\n"
   ]
  },
  {
   "cell_type": "code",
   "execution_count": null,
   "id": "0eb68e32-c4ff-4223-9057-2e8e0c480c02",
   "metadata": {},
   "outputs": [],
   "source": [
    "threshold = threshold_otsu(dat)\n",
    "thresholded = dat > threshold\n",
    "plt.figure()\n",
    "plt.imshow(thresholded)\n",
    "plt.figure()\n",
    "distance = ndi.distance_transform_edt(thresholded)\n",
    "plt.imshow(distance)\n",
    "coords = peak_local_max(distance,min_distance=10)\n",
    "mask = np.zeros(distance.shape, dtype=bool)\n",
    "mask[tuple(coords.T)] = True\n",
    "markers, _ = ndi.label(mask)\n",
    "labels = watershed(-distance, markers, mask=thresholded)\n",
    "plt.figure()\n",
    "plt.imshow(labels)"
   ]
  },
  {
   "cell_type": "code",
   "execution_count": null,
   "id": "39cb192f-52df-4936-9a13-b640a52d02b0",
   "metadata": {},
   "outputs": [],
   "source": [
    "def remove_small_objects()\n",
    "ids, counts = np.unique(labels, return_counts=True)\n",
    "min_count = 10\n",
    "for label in ids[counts < min_count]:\n",
    "    labels[labels==label] = 0\n",
    "return relabel_sequential(labels)[0]"
   ]
  },
  {
   "cell_type": "code",
   "execution_count": null,
   "id": "cd297f6d-62d0-46d7-bfba-6859d20dc7be",
   "metadata": {},
   "outputs": [],
   "source": [
    "from skimage.morphology import remove_small_objects"
   ]
  },
  {
   "cell_type": "code",
   "execution_count": null,
   "id": "1641a1ef-9130-480d-9556-17e6046abd79",
   "metadata": {},
   "outputs": [],
   "source": [
    "labels = relabel_sequential(remove_small_objects(labels, 10))[0]"
   ]
  },
  {
   "cell_type": "code",
   "execution_count": null,
   "id": "9a04eee4-cbce-4a05-b9f3-73cbc781444d",
   "metadata": {},
   "outputs": [],
   "source": [
    "counts[1:] * microns_per_pixel**2"
   ]
  },
  {
   "cell_type": "code",
   "execution_count": null,
   "id": "c0076d29-e9ca-413b-80b9-a6894a68e7a3",
   "metadata": {},
   "outputs": [],
   "source": [
    "ids, counts = np.unique(labled, return_counts=True)\n",
    "fig, ax = plt.subplots()\n",
    "ax.hist(counts[1:]/pixels_per_micron, bins=np.arange(0,80,2))\n",
    "ax.set_xlim([0,80])"
   ]
  },
  {
   "cell_type": "code",
   "execution_count": null,
   "id": "1741422c-d90c-46c4-9b8a-65928c014b36",
   "metadata": {},
   "outputs": [],
   "source": [
    "from skimage import measure"
   ]
  },
  {
   "cell_type": "code",
   "execution_count": null,
   "id": "23be7400-17a1-4061-8886-e0d1aa118cba",
   "metadata": {
    "tags": []
   },
   "outputs": [],
   "source": [
    "import pandas as pd\n",
    "\n",
    "df = pd.DataFrame(\n",
    "    measure.regionprops_table(\n",
    "        labels,\n",
    "        properties=[\n",
    "            \"eccentricity\",\n",
    "            \"filled_area\",\n",
    "            \"equivalent_diameter\",\n",
    "            \"orientation\",\n",
    "            \"solidity\",\n",
    "            \"perimeter\",\n",
    "            'area',\n",
    "        ],\n",
    "    )\n",
    ")\n",
    "df"
   ]
  },
  {
   "cell_type": "code",
   "execution_count": null,
   "id": "33be0eed-5dd0-42c5-9f2a-7f3da70deeb0",
   "metadata": {},
   "outputs": [],
   "source": [
    "df['circularity'] = (4 * np.pi * df['area']) /df['perimeter'] **2"
   ]
  },
  {
   "cell_type": "code",
   "execution_count": null,
   "id": "037817c7-4df0-469a-b4cb-8cafc3c75021",
   "metadata": {},
   "outputs": [],
   "source": [
    "df"
   ]
  },
  {
   "cell_type": "code",
   "execution_count": null,
   "id": "bcf06beb-7741-427d-b949-eafd3a4674a2",
   "metadata": {},
   "outputs": [],
   "source": [
    "df.hist('circularity', bins=100)"
   ]
  },
  {
   "cell_type": "code",
   "execution_count": null,
   "id": "f20f87cd-a1ad-419b-a9a5-6ade11ae352c",
   "metadata": {},
   "outputs": [],
   "source": [
    "plt.figure()\n",
    "plt.scatter('circularity', 'eccentricity', data=df)\n",
    "plt.ylabel('eccentricity')\n",
    "plt.xlabel('circularity')"
   ]
  },
  {
   "cell_type": "markdown",
   "id": "65fcbd8d-e2e4-44e2-ae99-cc19048e1dfd",
   "metadata": {},
   "source": [
    "### Cell Tracking"
   ]
  },
  {
   "cell_type": "code",
   "execution_count": null,
   "id": "52221173-8ae1-4313-80f9-14e628100ce9",
   "metadata": {},
   "outputs": [],
   "source": [
    "import glob\n",
    "files = sorted(glob.glob('data/Fluo-N3DH-CHO/01/*'))\n",
    "cho_data = tifffile.imread(files)\n",
    "CHO = xr.DataArray(\n",
    "    cho_data,\n",
    "    dims = ('T','Z','Y','X'),\n",
    "    coords = {\n",
    "        \"T\": 9.5 * np.arange(cho_data.shape[0]),\n",
    "        \"Z\": 1.0 * np.arange(cho_data.shape[1]),\n",
    "        \"Y\": 0.202 * np.arange(cho_data.shape[2]),\n",
    "        \"X\": 0.202 * np.arange(cho_data.shape[3]),\n",
    "    })\n",
    "sq = CHO.sel(Z=3)"
   ]
  },
  {
   "cell_type": "code",
   "execution_count": null,
   "id": "76f63547-f47e-4842-8efd-37a7542ba148",
   "metadata": {},
   "outputs": [],
   "source": [
    "xr.Dataset({\"images\":sq})\n"
   ]
  },
  {
   "cell_type": "code",
   "execution_count": null,
   "id": "e554bd6b-9ab9-4cb6-9d35-bddfe5afb4fb",
   "metadata": {},
   "outputs": [],
   "source": [
    "import scipy.ndimage as ndi\n",
    "thresholded = arr > 40\n",
    "plt.figure()\n",
    "plt.imshow(ndi.binary_fill_holes(thresholded))"
   ]
  },
  {
   "cell_type": "code",
   "execution_count": null,
   "id": "c8d93326-b9e3-4446-b5ba-ef08e94dec4b",
   "metadata": {},
   "outputs": [],
   "source": [
    "from skimage.measure import label\n",
    "labels = label(ndi.binary_fill_holes(thresholded))"
   ]
  },
  {
   "cell_type": "code",
   "execution_count": null,
   "id": "b324e911-83bb-4872-b3d8-4708954b3dc1",
   "metadata": {},
   "outputs": [],
   "source": [
    "try_all_threshold(CHO[0,0].values)"
   ]
  },
  {
   "cell_type": "code",
   "execution_count": null,
   "id": "b5626867-f6bf-4fe8-b6c0-0addd8b73101",
   "metadata": {},
   "outputs": [],
   "source": [
    "from skimage.feature import peak_local_max\n",
    "from skimage.segmentation import watershed\n",
    "\n",
    "image = ndi.binary_fill_holes(thresholded)\n",
    "distance = ndi.distance_transform_edt(image)\n",
    "coords = peak_local_max(distance, min_distance=50, footprint=np.ones((3, 3)), labels=image)\n",
    "mask = np.zeros(distance.shape, dtype=bool)\n",
    "mask[tuple(coords.T)] = True\n",
    "markers, _ = ndi.label(mask)\n",
    "labels = watershed(-distance, markers, mask=image)\n"
   ]
  },
  {
   "cell_type": "code",
   "execution_count": null,
   "id": "5a938a00-32c4-4da7-a978-a122b3ff8f32",
   "metadata": {},
   "outputs": [],
   "source": [
    "plt.figure()\n",
    "plt.imshow(labels)"
   ]
  },
  {
   "cell_type": "code",
   "execution_count": null,
   "id": "c62f2eca-91ea-431d-9de3-45eb72188607",
   "metadata": {},
   "outputs": [],
   "source": [
    "from skimage.segmentation import relabel_sequential"
   ]
  },
  {
   "cell_type": "code",
   "execution_count": null,
   "id": "2583c342-8d45-483b-b23a-42581320dcf2",
   "metadata": {},
   "outputs": [],
   "source": [
    "cutoff = 10\n",
    "ids, counts = np.unique(labels, return_counts=True)\n",
    "for label in ids[counts < cutoff]:\n",
    "    labels[labels==label] = 0\n"
   ]
  },
  {
   "cell_type": "code",
   "execution_count": null,
   "id": "3e7eb4ff-6d73-414d-b38f-33e4a71578ca",
   "metadata": {},
   "outputs": [],
   "source": [
    "ids, counts = np.unique(labels, return_counts=True)"
   ]
  },
  {
   "cell_type": "code",
   "execution_count": null,
   "id": "a65f16c5-5e15-4cc5-ab08-6694b1897ab4",
   "metadata": {},
   "outputs": [],
   "source": [
    "labels = relabel_sequential(remove_small_objects(labels,10))[0]"
   ]
  },
  {
   "cell_type": "code",
   "execution_count": null,
   "id": "ec193de9-951f-4c1f-b8ac-2cb6c580b889",
   "metadata": {},
   "outputs": [],
   "source": [
    "plt.figure()\n",
    "plt.imshow(labels)\n"
   ]
  },
  {
   "cell_type": "markdown",
   "id": "ff01ca6f-6b5d-4e00-bc6b-de911f4c959d",
   "metadata": {},
   "source": [
    "Fixing Watershed using Human in the loop with Napari"
   ]
  },
  {
   "cell_type": "markdown",
   "id": "0733d712-83ac-4917-ae53-fb20e4546bad",
   "metadata": {},
   "source": [
    "Tracking cells through time"
   ]
  },
  {
   "cell_type": "markdown",
   "id": "6c95be29-bd95-4056-91ef-d9cb114d73a0",
   "metadata": {},
   "source": [
    "### Breakout exercise\n",
    "\n",
    "\n",
    "Using indexing make a plot showing the evolution of each cells area over time.\n",
    "\n",
    "Hint: If cells are born later then it can be tricky to plot them. So start with the easy part and just plot the cells that we know exist in the first frame\n",
    "\n"
   ]
  },
  {
   "cell_type": "code",
   "execution_count": null,
   "id": "97001ded-eafa-4128-a88f-196824234f24",
   "metadata": {},
   "outputs": [],
   "source": []
  },
  {
   "cell_type": "markdown",
   "id": "0ebf0665-5285-44c5-bdd3-63aa5894413e",
   "metadata": {},
   "source": [
    "### Extra Breakout Acitivity"
   ]
  },
  {
   "cell_type": "code",
   "execution_count": null,
   "id": "dd8add77-3387-4e7b-9429-d76035d09dc7",
   "metadata": {},
   "outputs": [],
   "source": []
  },
  {
   "cell_type": "markdown",
   "id": "b364b1f3-beaf-4ee1-8d89-e4e3f9b357d0",
   "metadata": {},
   "source": [
    "\n",
    "## Closing Thoughts on this section\n",
    "\n",
    "\n",
    "1. GUI vs Scripting\n",
    "2. If you make scripts make them available to others!\n",
    "    - Put up on github with a name\n",
    "3. If you're at a company - consider open sourcing at least part of your software (see tensorflow)"
   ]
  },
  {
   "cell_type": "markdown",
   "id": "c27f9e82-c600-43cf-b6ad-dadff2c5f692",
   "metadata": {},
   "source": [
    "## How to get help!\n",
    "\n",
    "1. Always always always google a phrase that basically says what you want.\n",
    "\n",
    "Here are some of the things that I googled when making this notebook:\n",
    "\n",
    "> how to analyze EDS python\n",
    "\n",
    "> Cell tracking python\n",
    "\n",
    "> remove small object skimage\n",
    "\n",
    "\n",
    "In general people are friendly and want to know how you are using their software and what doesn't work for you:\n",
    "\n",
    "https://forum.image.sc/\n",
    "https://discourse.matplotlib.org/\n",
    "https://stackoverflow.com/\n",
    "https://discourse.jupyter.org/\n",
    "https://gitter.im/hyperspy/hyperspy\n",
    "Opening issues!\n"
   ]
  }
 ],
 "metadata": {
  "kernelspec": {
   "display_name": "Python 3",
   "language": "python",
   "name": "python3"
  },
  "language_info": {
   "codemirror_mode": {
    "name": "ipython",
    "version": 3
   },
   "file_extension": ".py",
   "mimetype": "text/x-python",
   "name": "python",
   "nbconvert_exporter": "python",
   "pygments_lexer": "ipython3",
   "version": "3.8.5"
  }
 },
 "nbformat": 4,
 "nbformat_minor": 5
}
